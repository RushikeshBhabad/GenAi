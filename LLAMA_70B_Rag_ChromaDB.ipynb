{
  "nbformat": 4,
  "nbformat_minor": 0,
  "metadata": {
    "colab": {
      "provenance": [],
      "mount_file_id": "152iKlT-NjwwB8By4p0LwoVx-EnvJ1TBy",
      "authorship_tag": "ABX9TyPDzvaEN1MpNg9GgrtMda6t",
      "include_colab_link": true
    },
    "kernelspec": {
      "name": "python3",
      "display_name": "Python 3"
    },
    "language_info": {
      "name": "python"
    }
  },
  "cells": [
    {
      "cell_type": "markdown",
      "metadata": {
        "id": "view-in-github",
        "colab_type": "text"
      },
      "source": [
        "<a href=\"https://colab.research.google.com/github/RushikeshBhabad/GenAi/blob/main/LLAMA_70B_Rag_ChromaDB.ipynb\" target=\"_parent\"><img src=\"https://colab.research.google.com/assets/colab-badge.svg\" alt=\"Open In Colab\"/></a>"
      ]
    },
    {
      "cell_type": "code",
      "execution_count": null,
      "metadata": {
        "colab": {
          "base_uri": "https://localhost:8080/"
        },
        "id": "sWdQjzRL7V3T",
        "outputId": "1d5d0bae-0153-4928-b202-2dc6690aaef2"
      },
      "outputs": [
        {
          "output_type": "stream",
          "name": "stdout",
          "text": [
            "Requirement already satisfied: chromadb==0.5.5 in /usr/local/lib/python3.11/dist-packages (0.5.5)\n",
            "Requirement already satisfied: langchain-chroma==0.1.2 in /usr/local/lib/python3.11/dist-packages (0.1.2)\n",
            "Requirement already satisfied: langchain==0.2.11 in /usr/local/lib/python3.11/dist-packages (0.2.11)\n",
            "Requirement already satisfied: langchain-community==0.2.10 in /usr/local/lib/python3.11/dist-packages (0.2.10)\n",
            "Requirement already satisfied: langchain-text-splitters==0.2.2 in /usr/local/lib/python3.11/dist-packages (0.2.2)\n",
            "Requirement already satisfied: langchain-groq==0.1.6 in /usr/local/lib/python3.11/dist-packages (0.1.6)\n",
            "Requirement already satisfied: transformers==4.43.2 in /usr/local/lib/python3.11/dist-packages (4.43.2)\n",
            "Requirement already satisfied: sentence-transformers==3.0.1 in /usr/local/lib/python3.11/dist-packages (3.0.1)\n",
            "Requirement already satisfied: unstructured==0.15.0 in /usr/local/lib/python3.11/dist-packages (0.15.0)\n",
            "Requirement already satisfied: build>=1.0.3 in /usr/local/lib/python3.11/dist-packages (from chromadb==0.5.5) (1.2.2.post1)\n",
            "Requirement already satisfied: pydantic>=1.9 in /usr/local/lib/python3.11/dist-packages (from chromadb==0.5.5) (2.11.3)\n",
            "Requirement already satisfied: chroma-hnswlib==0.7.6 in /usr/local/lib/python3.11/dist-packages (from chromadb==0.5.5) (0.7.6)\n",
            "Requirement already satisfied: fastapi>=0.95.2 in /usr/local/lib/python3.11/dist-packages (from chromadb==0.5.5) (0.115.12)\n",
            "Requirement already satisfied: uvicorn>=0.18.3 in /usr/local/lib/python3.11/dist-packages (from uvicorn[standard]>=0.18.3->chromadb==0.5.5) (0.34.2)\n",
            "Requirement already satisfied: numpy<2.0.0,>=1.22.5 in /usr/local/lib/python3.11/dist-packages (from chromadb==0.5.5) (1.26.4)\n",
            "Requirement already satisfied: posthog>=2.4.0 in /usr/local/lib/python3.11/dist-packages (from chromadb==0.5.5) (3.25.0)\n",
            "Requirement already satisfied: typing-extensions>=4.5.0 in /usr/local/lib/python3.11/dist-packages (from chromadb==0.5.5) (4.13.2)\n",
            "Requirement already satisfied: onnxruntime>=1.14.1 in /usr/local/lib/python3.11/dist-packages (from chromadb==0.5.5) (1.21.1)\n",
            "Requirement already satisfied: opentelemetry-api>=1.2.0 in /usr/local/lib/python3.11/dist-packages (from chromadb==0.5.5) (1.32.1)\n",
            "Requirement already satisfied: opentelemetry-exporter-otlp-proto-grpc>=1.2.0 in /usr/local/lib/python3.11/dist-packages (from chromadb==0.5.5) (1.32.1)\n",
            "Requirement already satisfied: opentelemetry-instrumentation-fastapi>=0.41b0 in /usr/local/lib/python3.11/dist-packages (from chromadb==0.5.5) (0.53b1)\n",
            "Requirement already satisfied: opentelemetry-sdk>=1.2.0 in /usr/local/lib/python3.11/dist-packages (from chromadb==0.5.5) (1.32.1)\n",
            "Requirement already satisfied: tokenizers>=0.13.2 in /usr/local/lib/python3.11/dist-packages (from chromadb==0.5.5) (0.19.1)\n",
            "Requirement already satisfied: pypika>=0.48.9 in /usr/local/lib/python3.11/dist-packages (from chromadb==0.5.5) (0.48.9)\n",
            "Requirement already satisfied: tqdm>=4.65.0 in /usr/local/lib/python3.11/dist-packages (from chromadb==0.5.5) (4.67.1)\n",
            "Requirement already satisfied: overrides>=7.3.1 in /usr/local/lib/python3.11/dist-packages (from chromadb==0.5.5) (7.7.0)\n",
            "Requirement already satisfied: importlib-resources in /usr/local/lib/python3.11/dist-packages (from chromadb==0.5.5) (6.5.2)\n",
            "Requirement already satisfied: grpcio>=1.58.0 in /usr/local/lib/python3.11/dist-packages (from chromadb==0.5.5) (1.71.0)\n",
            "Requirement already satisfied: bcrypt>=4.0.1 in /usr/local/lib/python3.11/dist-packages (from chromadb==0.5.5) (4.3.0)\n",
            "Requirement already satisfied: typer>=0.9.0 in /usr/local/lib/python3.11/dist-packages (from chromadb==0.5.5) (0.15.2)\n",
            "Requirement already satisfied: kubernetes>=28.1.0 in /usr/local/lib/python3.11/dist-packages (from chromadb==0.5.5) (32.0.1)\n",
            "Requirement already satisfied: tenacity>=8.2.3 in /usr/local/lib/python3.11/dist-packages (from chromadb==0.5.5) (8.5.0)\n",
            "Requirement already satisfied: PyYAML>=6.0.0 in /usr/local/lib/python3.11/dist-packages (from chromadb==0.5.5) (6.0.2)\n",
            "Requirement already satisfied: mmh3>=4.0.1 in /usr/local/lib/python3.11/dist-packages (from chromadb==0.5.5) (5.1.0)\n",
            "Requirement already satisfied: orjson>=3.9.12 in /usr/local/lib/python3.11/dist-packages (from chromadb==0.5.5) (3.10.16)\n",
            "Requirement already satisfied: httpx>=0.27.0 in /usr/local/lib/python3.11/dist-packages (from chromadb==0.5.5) (0.28.1)\n",
            "Requirement already satisfied: langchain-core<0.3,>=0.1.40 in /usr/local/lib/python3.11/dist-packages (from langchain-chroma==0.1.2) (0.2.43)\n",
            "Requirement already satisfied: SQLAlchemy<3,>=1.4 in /usr/local/lib/python3.11/dist-packages (from langchain==0.2.11) (2.0.40)\n",
            "Requirement already satisfied: aiohttp<4.0.0,>=3.8.3 in /usr/local/lib/python3.11/dist-packages (from langchain==0.2.11) (3.11.15)\n",
            "Requirement already satisfied: langsmith<0.2.0,>=0.1.17 in /usr/local/lib/python3.11/dist-packages (from langchain==0.2.11) (0.1.147)\n",
            "Requirement already satisfied: requests<3,>=2 in /usr/local/lib/python3.11/dist-packages (from langchain==0.2.11) (2.32.3)\n",
            "Requirement already satisfied: dataclasses-json<0.7,>=0.5.7 in /usr/local/lib/python3.11/dist-packages (from langchain-community==0.2.10) (0.6.7)\n",
            "Requirement already satisfied: groq<1,>=0.4.1 in /usr/local/lib/python3.11/dist-packages (from langchain-groq==0.1.6) (0.23.0)\n",
            "Requirement already satisfied: filelock in /usr/local/lib/python3.11/dist-packages (from transformers==4.43.2) (3.18.0)\n",
            "Requirement already satisfied: huggingface-hub<1.0,>=0.23.2 in /usr/local/lib/python3.11/dist-packages (from transformers==4.43.2) (0.30.2)\n",
            "Requirement already satisfied: packaging>=20.0 in /usr/local/lib/python3.11/dist-packages (from transformers==4.43.2) (24.2)\n",
            "Requirement already satisfied: regex!=2019.12.17 in /usr/local/lib/python3.11/dist-packages (from transformers==4.43.2) (2024.11.6)\n",
            "Requirement already satisfied: safetensors>=0.4.1 in /usr/local/lib/python3.11/dist-packages (from transformers==4.43.2) (0.5.3)\n",
            "Requirement already satisfied: torch>=1.11.0 in /usr/local/lib/python3.11/dist-packages (from sentence-transformers==3.0.1) (2.6.0+cu124)\n",
            "Requirement already satisfied: scikit-learn in /usr/local/lib/python3.11/dist-packages (from sentence-transformers==3.0.1) (1.6.1)\n",
            "Requirement already satisfied: scipy in /usr/local/lib/python3.11/dist-packages (from sentence-transformers==3.0.1) (1.14.1)\n",
            "Requirement already satisfied: Pillow in /usr/local/lib/python3.11/dist-packages (from sentence-transformers==3.0.1) (11.1.0)\n",
            "Requirement already satisfied: chardet in /usr/local/lib/python3.11/dist-packages (from unstructured==0.15.0) (5.2.0)\n",
            "Requirement already satisfied: filetype in /usr/local/lib/python3.11/dist-packages (from unstructured==0.15.0) (1.2.0)\n",
            "Requirement already satisfied: python-magic in /usr/local/lib/python3.11/dist-packages (from unstructured==0.15.0) (0.4.27)\n",
            "Requirement already satisfied: lxml in /usr/local/lib/python3.11/dist-packages (from unstructured==0.15.0) (5.3.2)\n",
            "Requirement already satisfied: nltk in /usr/local/lib/python3.11/dist-packages (from unstructured==0.15.0) (3.9.1)\n",
            "Requirement already satisfied: tabulate in /usr/local/lib/python3.11/dist-packages (from unstructured==0.15.0) (0.9.0)\n",
            "Requirement already satisfied: beautifulsoup4 in /usr/local/lib/python3.11/dist-packages (from unstructured==0.15.0) (4.13.4)\n",
            "Requirement already satisfied: emoji in /usr/local/lib/python3.11/dist-packages (from unstructured==0.15.0) (2.14.1)\n",
            "Requirement already satisfied: python-iso639 in /usr/local/lib/python3.11/dist-packages (from unstructured==0.15.0) (2025.2.18)\n",
            "Requirement already satisfied: langdetect in /usr/local/lib/python3.11/dist-packages (from unstructured==0.15.0) (1.0.9)\n",
            "Requirement already satisfied: rapidfuzz in /usr/local/lib/python3.11/dist-packages (from unstructured==0.15.0) (3.13.0)\n",
            "Requirement already satisfied: backoff in /usr/local/lib/python3.11/dist-packages (from unstructured==0.15.0) (2.2.1)\n",
            "Requirement already satisfied: unstructured-client in /usr/local/lib/python3.11/dist-packages (from unstructured==0.15.0) (0.34.0)\n",
            "Requirement already satisfied: wrapt in /usr/local/lib/python3.11/dist-packages (from unstructured==0.15.0) (1.17.2)\n",
            "Requirement already satisfied: psutil in /usr/local/lib/python3.11/dist-packages (from unstructured==0.15.0) (5.9.5)\n",
            "Requirement already satisfied: onnx in /usr/local/lib/python3.11/dist-packages (from unstructured[pdf]==0.15.0) (1.17.0)\n",
            "Requirement already satisfied: pdf2image in /usr/local/lib/python3.11/dist-packages (from unstructured[pdf]==0.15.0) (1.17.0)\n",
            "Requirement already satisfied: pdfminer.six in /usr/local/lib/python3.11/dist-packages (from unstructured[pdf]==0.15.0) (20250327)\n",
            "Requirement already satisfied: pikepdf in /usr/local/lib/python3.11/dist-packages (from unstructured[pdf]==0.15.0) (9.7.0)\n",
            "Requirement already satisfied: pillow-heif in /usr/local/lib/python3.11/dist-packages (from unstructured[pdf]==0.15.0) (0.22.0)\n",
            "Requirement already satisfied: pypdf in /usr/local/lib/python3.11/dist-packages (from unstructured[pdf]==0.15.0) (5.4.0)\n",
            "Requirement already satisfied: pytesseract in /usr/local/lib/python3.11/dist-packages (from unstructured[pdf]==0.15.0) (0.3.13)\n",
            "Requirement already satisfied: google-cloud-vision in /usr/local/lib/python3.11/dist-packages (from unstructured[pdf]==0.15.0) (3.10.1)\n",
            "Requirement already satisfied: effdet in /usr/local/lib/python3.11/dist-packages (from unstructured[pdf]==0.15.0) (0.4.1)\n",
            "Requirement already satisfied: unstructured-inference==0.7.36 in /usr/local/lib/python3.11/dist-packages (from unstructured[pdf]==0.15.0) (0.7.36)\n",
            "Requirement already satisfied: unstructured.pytesseract>=0.3.12 in /usr/local/lib/python3.11/dist-packages (from unstructured[pdf]==0.15.0) (0.3.15)\n",
            "Requirement already satisfied: layoutparser in /usr/local/lib/python3.11/dist-packages (from unstructured-inference==0.7.36->unstructured[pdf]==0.15.0) (0.3.4)\n",
            "Requirement already satisfied: python-multipart in /usr/local/lib/python3.11/dist-packages (from unstructured-inference==0.7.36->unstructured[pdf]==0.15.0) (0.0.20)\n",
            "Requirement already satisfied: opencv-python!=4.7.0.68 in /usr/local/lib/python3.11/dist-packages (from unstructured-inference==0.7.36->unstructured[pdf]==0.15.0) (4.11.0.86)\n",
            "Requirement already satisfied: matplotlib in /usr/local/lib/python3.11/dist-packages (from unstructured-inference==0.7.36->unstructured[pdf]==0.15.0) (3.10.0)\n",
            "Requirement already satisfied: timm in /usr/local/lib/python3.11/dist-packages (from unstructured-inference==0.7.36->unstructured[pdf]==0.15.0) (1.0.15)\n",
            "Requirement already satisfied: aiohappyeyeballs>=2.3.0 in /usr/local/lib/python3.11/dist-packages (from aiohttp<4.0.0,>=3.8.3->langchain==0.2.11) (2.6.1)\n",
            "Requirement already satisfied: aiosignal>=1.1.2 in /usr/local/lib/python3.11/dist-packages (from aiohttp<4.0.0,>=3.8.3->langchain==0.2.11) (1.3.2)\n",
            "Requirement already satisfied: attrs>=17.3.0 in /usr/local/lib/python3.11/dist-packages (from aiohttp<4.0.0,>=3.8.3->langchain==0.2.11) (25.3.0)\n",
            "Requirement already satisfied: frozenlist>=1.1.1 in /usr/local/lib/python3.11/dist-packages (from aiohttp<4.0.0,>=3.8.3->langchain==0.2.11) (1.5.0)\n",
            "Requirement already satisfied: multidict<7.0,>=4.5 in /usr/local/lib/python3.11/dist-packages (from aiohttp<4.0.0,>=3.8.3->langchain==0.2.11) (6.4.3)\n",
            "Requirement already satisfied: propcache>=0.2.0 in /usr/local/lib/python3.11/dist-packages (from aiohttp<4.0.0,>=3.8.3->langchain==0.2.11) (0.3.1)\n",
            "Requirement already satisfied: yarl<2.0,>=1.17.0 in /usr/local/lib/python3.11/dist-packages (from aiohttp<4.0.0,>=3.8.3->langchain==0.2.11) (1.19.0)\n",
            "Requirement already satisfied: pyproject_hooks in /usr/local/lib/python3.11/dist-packages (from build>=1.0.3->chromadb==0.5.5) (1.2.0)\n",
            "Requirement already satisfied: marshmallow<4.0.0,>=3.18.0 in /usr/local/lib/python3.11/dist-packages (from dataclasses-json<0.7,>=0.5.7->langchain-community==0.2.10) (3.26.1)\n",
            "Requirement already satisfied: typing-inspect<1,>=0.4.0 in /usr/local/lib/python3.11/dist-packages (from dataclasses-json<0.7,>=0.5.7->langchain-community==0.2.10) (0.9.0)\n",
            "Requirement already satisfied: starlette<0.47.0,>=0.40.0 in /usr/local/lib/python3.11/dist-packages (from fastapi>=0.95.2->chromadb==0.5.5) (0.46.2)\n",
            "Requirement already satisfied: anyio<5,>=3.5.0 in /usr/local/lib/python3.11/dist-packages (from groq<1,>=0.4.1->langchain-groq==0.1.6) (4.9.0)\n",
            "Requirement already satisfied: distro<2,>=1.7.0 in /usr/local/lib/python3.11/dist-packages (from groq<1,>=0.4.1->langchain-groq==0.1.6) (1.9.0)\n",
            "Requirement already satisfied: sniffio in /usr/local/lib/python3.11/dist-packages (from groq<1,>=0.4.1->langchain-groq==0.1.6) (1.3.1)\n",
            "Requirement already satisfied: certifi in /usr/local/lib/python3.11/dist-packages (from httpx>=0.27.0->chromadb==0.5.5) (2025.1.31)\n",
            "Requirement already satisfied: httpcore==1.* in /usr/local/lib/python3.11/dist-packages (from httpx>=0.27.0->chromadb==0.5.5) (1.0.8)\n",
            "Requirement already satisfied: idna in /usr/local/lib/python3.11/dist-packages (from httpx>=0.27.0->chromadb==0.5.5) (3.10)\n",
            "Requirement already satisfied: h11<0.15,>=0.13 in /usr/local/lib/python3.11/dist-packages (from httpcore==1.*->httpx>=0.27.0->chromadb==0.5.5) (0.14.0)\n",
            "Requirement already satisfied: fsspec>=2023.5.0 in /usr/local/lib/python3.11/dist-packages (from huggingface-hub<1.0,>=0.23.2->transformers==4.43.2) (2025.3.2)\n",
            "Requirement already satisfied: six>=1.9.0 in /usr/local/lib/python3.11/dist-packages (from kubernetes>=28.1.0->chromadb==0.5.5) (1.17.0)\n",
            "Requirement already satisfied: python-dateutil>=2.5.3 in /usr/local/lib/python3.11/dist-packages (from kubernetes>=28.1.0->chromadb==0.5.5) (2.8.2)\n",
            "Requirement already satisfied: google-auth>=1.0.1 in /usr/local/lib/python3.11/dist-packages (from kubernetes>=28.1.0->chromadb==0.5.5) (2.38.0)\n",
            "Requirement already satisfied: websocket-client!=0.40.0,!=0.41.*,!=0.42.*,>=0.32.0 in /usr/local/lib/python3.11/dist-packages (from kubernetes>=28.1.0->chromadb==0.5.5) (1.8.0)\n",
            "Requirement already satisfied: requests-oauthlib in /usr/local/lib/python3.11/dist-packages (from kubernetes>=28.1.0->chromadb==0.5.5) (2.0.0)\n",
            "Requirement already satisfied: oauthlib>=3.2.2 in /usr/local/lib/python3.11/dist-packages (from kubernetes>=28.1.0->chromadb==0.5.5) (3.2.2)\n",
            "Requirement already satisfied: urllib3>=1.24.2 in /usr/local/lib/python3.11/dist-packages (from kubernetes>=28.1.0->chromadb==0.5.5) (2.3.0)\n",
            "Requirement already satisfied: durationpy>=0.7 in /usr/local/lib/python3.11/dist-packages (from kubernetes>=28.1.0->chromadb==0.5.5) (0.9)\n",
            "Requirement already satisfied: jsonpatch<2.0,>=1.33 in /usr/local/lib/python3.11/dist-packages (from langchain-core<0.3,>=0.1.40->langchain-chroma==0.1.2) (1.33)\n",
            "Requirement already satisfied: requests-toolbelt<2.0.0,>=1.0.0 in /usr/local/lib/python3.11/dist-packages (from langsmith<0.2.0,>=0.1.17->langchain==0.2.11) (1.0.0)\n",
            "Requirement already satisfied: coloredlogs in /usr/local/lib/python3.11/dist-packages (from onnxruntime>=1.14.1->chromadb==0.5.5) (15.0.1)\n",
            "Requirement already satisfied: flatbuffers in /usr/local/lib/python3.11/dist-packages (from onnxruntime>=1.14.1->chromadb==0.5.5) (25.2.10)\n",
            "Requirement already satisfied: protobuf in /usr/local/lib/python3.11/dist-packages (from onnxruntime>=1.14.1->chromadb==0.5.5) (5.29.4)\n",
            "Requirement already satisfied: sympy in /usr/local/lib/python3.11/dist-packages (from onnxruntime>=1.14.1->chromadb==0.5.5) (1.13.1)\n",
            "Requirement already satisfied: deprecated>=1.2.6 in /usr/local/lib/python3.11/dist-packages (from opentelemetry-api>=1.2.0->chromadb==0.5.5) (1.2.18)\n",
            "Requirement already satisfied: importlib-metadata<8.7.0,>=6.0 in /usr/local/lib/python3.11/dist-packages (from opentelemetry-api>=1.2.0->chromadb==0.5.5) (8.6.1)\n",
            "Requirement already satisfied: googleapis-common-protos~=1.52 in /usr/local/lib/python3.11/dist-packages (from opentelemetry-exporter-otlp-proto-grpc>=1.2.0->chromadb==0.5.5) (1.70.0)\n",
            "Requirement already satisfied: opentelemetry-exporter-otlp-proto-common==1.32.1 in /usr/local/lib/python3.11/dist-packages (from opentelemetry-exporter-otlp-proto-grpc>=1.2.0->chromadb==0.5.5) (1.32.1)\n",
            "Requirement already satisfied: opentelemetry-proto==1.32.1 in /usr/local/lib/python3.11/dist-packages (from opentelemetry-exporter-otlp-proto-grpc>=1.2.0->chromadb==0.5.5) (1.32.1)\n",
            "Requirement already satisfied: opentelemetry-instrumentation-asgi==0.53b1 in /usr/local/lib/python3.11/dist-packages (from opentelemetry-instrumentation-fastapi>=0.41b0->chromadb==0.5.5) (0.53b1)\n",
            "Requirement already satisfied: opentelemetry-instrumentation==0.53b1 in /usr/local/lib/python3.11/dist-packages (from opentelemetry-instrumentation-fastapi>=0.41b0->chromadb==0.5.5) (0.53b1)\n",
            "Requirement already satisfied: opentelemetry-semantic-conventions==0.53b1 in /usr/local/lib/python3.11/dist-packages (from opentelemetry-instrumentation-fastapi>=0.41b0->chromadb==0.5.5) (0.53b1)\n",
            "Requirement already satisfied: opentelemetry-util-http==0.53b1 in /usr/local/lib/python3.11/dist-packages (from opentelemetry-instrumentation-fastapi>=0.41b0->chromadb==0.5.5) (0.53b1)\n",
            "Requirement already satisfied: asgiref~=3.0 in /usr/local/lib/python3.11/dist-packages (from opentelemetry-instrumentation-asgi==0.53b1->opentelemetry-instrumentation-fastapi>=0.41b0->chromadb==0.5.5) (3.8.1)\n",
            "Requirement already satisfied: monotonic>=1.5 in /usr/local/lib/python3.11/dist-packages (from posthog>=2.4.0->chromadb==0.5.5) (1.6)\n",
            "Requirement already satisfied: annotated-types>=0.6.0 in /usr/local/lib/python3.11/dist-packages (from pydantic>=1.9->chromadb==0.5.5) (0.7.0)\n",
            "Requirement already satisfied: pydantic-core==2.33.1 in /usr/local/lib/python3.11/dist-packages (from pydantic>=1.9->chromadb==0.5.5) (2.33.1)\n",
            "Requirement already satisfied: typing-inspection>=0.4.0 in /usr/local/lib/python3.11/dist-packages (from pydantic>=1.9->chromadb==0.5.5) (0.4.0)\n",
            "Requirement already satisfied: charset-normalizer<4,>=2 in /usr/local/lib/python3.11/dist-packages (from requests<3,>=2->langchain==0.2.11) (3.4.1)\n",
            "Requirement already satisfied: greenlet>=1 in /usr/local/lib/python3.11/dist-packages (from SQLAlchemy<3,>=1.4->langchain==0.2.11) (3.2.0)\n",
            "Requirement already satisfied: networkx in /usr/local/lib/python3.11/dist-packages (from torch>=1.11.0->sentence-transformers==3.0.1) (3.4.2)\n",
            "Requirement already satisfied: jinja2 in /usr/local/lib/python3.11/dist-packages (from torch>=1.11.0->sentence-transformers==3.0.1) (3.1.6)\n",
            "Requirement already satisfied: nvidia-cuda-nvrtc-cu12==12.4.127 in /usr/local/lib/python3.11/dist-packages (from torch>=1.11.0->sentence-transformers==3.0.1) (12.4.127)\n",
            "Requirement already satisfied: nvidia-cuda-runtime-cu12==12.4.127 in /usr/local/lib/python3.11/dist-packages (from torch>=1.11.0->sentence-transformers==3.0.1) (12.4.127)\n",
            "Requirement already satisfied: nvidia-cuda-cupti-cu12==12.4.127 in /usr/local/lib/python3.11/dist-packages (from torch>=1.11.0->sentence-transformers==3.0.1) (12.4.127)\n",
            "Requirement already satisfied: nvidia-cudnn-cu12==9.1.0.70 in /usr/local/lib/python3.11/dist-packages (from torch>=1.11.0->sentence-transformers==3.0.1) (9.1.0.70)\n",
            "Requirement already satisfied: nvidia-cublas-cu12==12.4.5.8 in /usr/local/lib/python3.11/dist-packages (from torch>=1.11.0->sentence-transformers==3.0.1) (12.4.5.8)\n",
            "Requirement already satisfied: nvidia-cufft-cu12==11.2.1.3 in /usr/local/lib/python3.11/dist-packages (from torch>=1.11.0->sentence-transformers==3.0.1) (11.2.1.3)\n",
            "Requirement already satisfied: nvidia-curand-cu12==10.3.5.147 in /usr/local/lib/python3.11/dist-packages (from torch>=1.11.0->sentence-transformers==3.0.1) (10.3.5.147)\n",
            "Requirement already satisfied: nvidia-cusolver-cu12==11.6.1.9 in /usr/local/lib/python3.11/dist-packages (from torch>=1.11.0->sentence-transformers==3.0.1) (11.6.1.9)\n",
            "Requirement already satisfied: nvidia-cusparse-cu12==12.3.1.170 in /usr/local/lib/python3.11/dist-packages (from torch>=1.11.0->sentence-transformers==3.0.1) (12.3.1.170)\n",
            "Requirement already satisfied: nvidia-cusparselt-cu12==0.6.2 in /usr/local/lib/python3.11/dist-packages (from torch>=1.11.0->sentence-transformers==3.0.1) (0.6.2)\n",
            "Requirement already satisfied: nvidia-nccl-cu12==2.21.5 in /usr/local/lib/python3.11/dist-packages (from torch>=1.11.0->sentence-transformers==3.0.1) (2.21.5)\n",
            "Requirement already satisfied: nvidia-nvtx-cu12==12.4.127 in /usr/local/lib/python3.11/dist-packages (from torch>=1.11.0->sentence-transformers==3.0.1) (12.4.127)\n",
            "Requirement already satisfied: nvidia-nvjitlink-cu12==12.4.127 in /usr/local/lib/python3.11/dist-packages (from torch>=1.11.0->sentence-transformers==3.0.1) (12.4.127)\n",
            "Requirement already satisfied: triton==3.2.0 in /usr/local/lib/python3.11/dist-packages (from torch>=1.11.0->sentence-transformers==3.0.1) (3.2.0)\n",
            "Requirement already satisfied: mpmath<1.4,>=1.1.0 in /usr/local/lib/python3.11/dist-packages (from sympy->onnxruntime>=1.14.1->chromadb==0.5.5) (1.3.0)\n",
            "Requirement already satisfied: click>=8.0.0 in /usr/local/lib/python3.11/dist-packages (from typer>=0.9.0->chromadb==0.5.5) (8.1.8)\n",
            "Requirement already satisfied: shellingham>=1.3.0 in /usr/local/lib/python3.11/dist-packages (from typer>=0.9.0->chromadb==0.5.5) (1.5.4)\n",
            "Requirement already satisfied: rich>=10.11.0 in /usr/local/lib/python3.11/dist-packages (from typer>=0.9.0->chromadb==0.5.5) (13.9.4)\n",
            "Requirement already satisfied: httptools>=0.6.3 in /usr/local/lib/python3.11/dist-packages (from uvicorn[standard]>=0.18.3->chromadb==0.5.5) (0.6.4)\n",
            "Requirement already satisfied: python-dotenv>=0.13 in /usr/local/lib/python3.11/dist-packages (from uvicorn[standard]>=0.18.3->chromadb==0.5.5) (1.1.0)\n",
            "Requirement already satisfied: uvloop!=0.15.0,!=0.15.1,>=0.14.0 in /usr/local/lib/python3.11/dist-packages (from uvicorn[standard]>=0.18.3->chromadb==0.5.5) (0.21.0)\n",
            "Requirement already satisfied: watchfiles>=0.13 in /usr/local/lib/python3.11/dist-packages (from uvicorn[standard]>=0.18.3->chromadb==0.5.5) (1.0.5)\n",
            "Requirement already satisfied: websockets>=10.4 in /usr/local/lib/python3.11/dist-packages (from uvicorn[standard]>=0.18.3->chromadb==0.5.5) (15.0.1)\n",
            "Requirement already satisfied: soupsieve>1.2 in /usr/local/lib/python3.11/dist-packages (from beautifulsoup4->unstructured==0.15.0) (2.6)\n",
            "Requirement already satisfied: torchvision in /usr/local/lib/python3.11/dist-packages (from effdet->unstructured[pdf]==0.15.0) (0.21.0+cu124)\n",
            "Requirement already satisfied: pycocotools>=2.0.2 in /usr/local/lib/python3.11/dist-packages (from effdet->unstructured[pdf]==0.15.0) (2.0.8)\n",
            "Requirement already satisfied: omegaconf>=2.0 in /usr/local/lib/python3.11/dist-packages (from effdet->unstructured[pdf]==0.15.0) (2.3.0)\n",
            "Requirement already satisfied: google-api-core!=2.0.*,!=2.1.*,!=2.10.*,!=2.2.*,!=2.3.*,!=2.4.*,!=2.5.*,!=2.6.*,!=2.7.*,!=2.8.*,!=2.9.*,<3.0.0,>=1.34.1 in /usr/local/lib/python3.11/dist-packages (from google-api-core[grpc]!=2.0.*,!=2.1.*,!=2.10.*,!=2.2.*,!=2.3.*,!=2.4.*,!=2.5.*,!=2.6.*,!=2.7.*,!=2.8.*,!=2.9.*,<3.0.0,>=1.34.1->google-cloud-vision->unstructured[pdf]==0.15.0) (2.24.2)\n",
            "Requirement already satisfied: proto-plus<2.0.0,>=1.22.3 in /usr/local/lib/python3.11/dist-packages (from google-cloud-vision->unstructured[pdf]==0.15.0) (1.26.1)\n",
            "Requirement already satisfied: joblib in /usr/local/lib/python3.11/dist-packages (from nltk->unstructured==0.15.0) (1.4.2)\n",
            "Requirement already satisfied: cryptography>=36.0.0 in /usr/local/lib/python3.11/dist-packages (from pdfminer.six->unstructured[pdf]==0.15.0) (43.0.3)\n",
            "Requirement already satisfied: threadpoolctl>=3.1.0 in /usr/local/lib/python3.11/dist-packages (from scikit-learn->sentence-transformers==3.0.1) (3.6.0)\n",
            "Requirement already satisfied: aiofiles>=24.1.0 in /usr/local/lib/python3.11/dist-packages (from unstructured-client->unstructured==0.15.0) (24.1.0)\n",
            "Requirement already satisfied: eval-type-backport>=0.2.0 in /usr/local/lib/python3.11/dist-packages (from unstructured-client->unstructured==0.15.0) (0.2.2)\n",
            "Requirement already satisfied: nest-asyncio>=1.6.0 in /usr/local/lib/python3.11/dist-packages (from unstructured-client->unstructured==0.15.0) (1.6.0)\n",
            "Requirement already satisfied: cffi>=1.12 in /usr/local/lib/python3.11/dist-packages (from cryptography>=36.0.0->pdfminer.six->unstructured[pdf]==0.15.0) (1.17.1)\n",
            "Requirement already satisfied: grpcio-status<2.0.dev0,>=1.33.2 in /usr/local/lib/python3.11/dist-packages (from google-api-core[grpc]!=2.0.*,!=2.1.*,!=2.10.*,!=2.2.*,!=2.3.*,!=2.4.*,!=2.5.*,!=2.6.*,!=2.7.*,!=2.8.*,!=2.9.*,<3.0.0,>=1.34.1->google-cloud-vision->unstructured[pdf]==0.15.0) (1.71.0)\n",
            "Requirement already satisfied: cachetools<6.0,>=2.0.0 in /usr/local/lib/python3.11/dist-packages (from google-auth>=1.0.1->kubernetes>=28.1.0->chromadb==0.5.5) (5.5.2)\n",
            "Requirement already satisfied: pyasn1-modules>=0.2.1 in /usr/local/lib/python3.11/dist-packages (from google-auth>=1.0.1->kubernetes>=28.1.0->chromadb==0.5.5) (0.4.2)\n",
            "Requirement already satisfied: rsa<5,>=3.1.4 in /usr/local/lib/python3.11/dist-packages (from google-auth>=1.0.1->kubernetes>=28.1.0->chromadb==0.5.5) (4.9.1)\n",
            "Requirement already satisfied: zipp>=3.20 in /usr/local/lib/python3.11/dist-packages (from importlib-metadata<8.7.0,>=6.0->opentelemetry-api>=1.2.0->chromadb==0.5.5) (3.21.0)\n",
            "Requirement already satisfied: jsonpointer>=1.9 in /usr/local/lib/python3.11/dist-packages (from jsonpatch<2.0,>=1.33->langchain-core<0.3,>=0.1.40->langchain-chroma==0.1.2) (3.0.0)\n",
            "Requirement already satisfied: antlr4-python3-runtime==4.9.* in /usr/local/lib/python3.11/dist-packages (from omegaconf>=2.0->effdet->unstructured[pdf]==0.15.0) (4.9.3)\n",
            "Requirement already satisfied: contourpy>=1.0.1 in /usr/local/lib/python3.11/dist-packages (from matplotlib->unstructured-inference==0.7.36->unstructured[pdf]==0.15.0) (1.3.2)\n",
            "Requirement already satisfied: cycler>=0.10 in /usr/local/lib/python3.11/dist-packages (from matplotlib->unstructured-inference==0.7.36->unstructured[pdf]==0.15.0) (0.12.1)\n",
            "Requirement already satisfied: fonttools>=4.22.0 in /usr/local/lib/python3.11/dist-packages (from matplotlib->unstructured-inference==0.7.36->unstructured[pdf]==0.15.0) (4.57.0)\n",
            "Requirement already satisfied: kiwisolver>=1.3.1 in /usr/local/lib/python3.11/dist-packages (from matplotlib->unstructured-inference==0.7.36->unstructured[pdf]==0.15.0) (1.4.8)\n",
            "Requirement already satisfied: pyparsing>=2.3.1 in /usr/local/lib/python3.11/dist-packages (from matplotlib->unstructured-inference==0.7.36->unstructured[pdf]==0.15.0) (3.2.3)\n",
            "Requirement already satisfied: markdown-it-py>=2.2.0 in /usr/local/lib/python3.11/dist-packages (from rich>=10.11.0->typer>=0.9.0->chromadb==0.5.5) (3.0.0)\n",
            "Requirement already satisfied: pygments<3.0.0,>=2.13.0 in /usr/local/lib/python3.11/dist-packages (from rich>=10.11.0->typer>=0.9.0->chromadb==0.5.5) (2.18.0)\n",
            "Requirement already satisfied: mypy-extensions>=0.3.0 in /usr/local/lib/python3.11/dist-packages (from typing-inspect<1,>=0.4.0->dataclasses-json<0.7,>=0.5.7->langchain-community==0.2.10) (1.1.0)\n",
            "Requirement already satisfied: humanfriendly>=9.1 in /usr/local/lib/python3.11/dist-packages (from coloredlogs->onnxruntime>=1.14.1->chromadb==0.5.5) (10.0)\n",
            "Requirement already satisfied: MarkupSafe>=2.0 in /usr/local/lib/python3.11/dist-packages (from jinja2->torch>=1.11.0->sentence-transformers==3.0.1) (3.0.2)\n",
            "Requirement already satisfied: pandas in /usr/local/lib/python3.11/dist-packages (from layoutparser->unstructured-inference==0.7.36->unstructured[pdf]==0.15.0) (2.2.2)\n",
            "Requirement already satisfied: iopath in /usr/local/lib/python3.11/dist-packages (from layoutparser->unstructured-inference==0.7.36->unstructured[pdf]==0.15.0) (0.1.10)\n",
            "Requirement already satisfied: pdfplumber in /usr/local/lib/python3.11/dist-packages (from layoutparser->unstructured-inference==0.7.36->unstructured[pdf]==0.15.0) (0.11.6)\n",
            "Requirement already satisfied: pycparser in /usr/local/lib/python3.11/dist-packages (from cffi>=1.12->cryptography>=36.0.0->pdfminer.six->unstructured[pdf]==0.15.0) (2.22)\n",
            "Requirement already satisfied: mdurl~=0.1 in /usr/local/lib/python3.11/dist-packages (from markdown-it-py>=2.2.0->rich>=10.11.0->typer>=0.9.0->chromadb==0.5.5) (0.1.2)\n",
            "Requirement already satisfied: pyasn1<0.7.0,>=0.6.1 in /usr/local/lib/python3.11/dist-packages (from pyasn1-modules>=0.2.1->google-auth>=1.0.1->kubernetes>=28.1.0->chromadb==0.5.5) (0.6.1)\n",
            "Requirement already satisfied: portalocker in /usr/local/lib/python3.11/dist-packages (from iopath->layoutparser->unstructured-inference==0.7.36->unstructured[pdf]==0.15.0) (3.1.1)\n",
            "Requirement already satisfied: pytz>=2020.1 in /usr/local/lib/python3.11/dist-packages (from pandas->layoutparser->unstructured-inference==0.7.36->unstructured[pdf]==0.15.0) (2025.2)\n",
            "Requirement already satisfied: tzdata>=2022.7 in /usr/local/lib/python3.11/dist-packages (from pandas->layoutparser->unstructured-inference==0.7.36->unstructured[pdf]==0.15.0) (2025.2)\n",
            "Requirement already satisfied: pypdfium2>=4.18.0 in /usr/local/lib/python3.11/dist-packages (from pdfplumber->layoutparser->unstructured-inference==0.7.36->unstructured[pdf]==0.15.0) (4.30.1)\n"
          ]
        }
      ],
      "source": [
        "!pip install chromadb==0.5.5 langchain-chroma==0.1.2 langchain==0.2.11 langchain-community==0.2.10 langchain-text-splitters==0.2.2 langchain-groq==0.1.6 transformers==4.43.2 sentence-transformers==3.0.1 unstructured==0.15.0 unstructured[pdf]==0.15.0"
      ]
    },
    {
      "cell_type": "code",
      "source": [
        "!pip install pymupdf"
      ],
      "metadata": {
        "colab": {
          "base_uri": "https://localhost:8080/"
        },
        "id": "4u2qVVBcHINf",
        "outputId": "f818d8f5-f7b6-4934-c217-e3428b97e33d"
      },
      "execution_count": null,
      "outputs": [
        {
          "output_type": "stream",
          "name": "stdout",
          "text": [
            "Collecting pymupdf\n",
            "  Downloading pymupdf-1.25.5-cp39-abi3-manylinux2014_x86_64.manylinux_2_17_x86_64.whl.metadata (3.4 kB)\n",
            "Downloading pymupdf-1.25.5-cp39-abi3-manylinux2014_x86_64.manylinux_2_17_x86_64.whl (20.0 MB)\n",
            "\u001b[2K   \u001b[90m━━━━━━━━━━━━━━━━━━━━━━━━━━━━━━━━━━━━━━━━\u001b[0m \u001b[32m20.0/20.0 MB\u001b[0m \u001b[31m36.0 MB/s\u001b[0m eta \u001b[36m0:00:00\u001b[0m\n",
            "\u001b[?25hInstalling collected packages: pymupdf\n",
            "Successfully installed pymupdf-1.25.5\n"
          ]
        }
      ]
    },
    {
      "cell_type": "code",
      "source": [
        "import os\n",
        "\n",
        "from langchain.document_loaders import UnstructuredFileLoader\n",
        "from langchain_text_splitters import CharacterTextSplitter\n",
        "from langchain_community.embeddings import HuggingFaceEmbeddings\n",
        "from langchain_chroma import Chroma\n",
        "from langchain_groq import ChatGroq\n",
        "from langchain.chains import RetrievalQA"
      ],
      "metadata": {
        "id": "lT-d0agL83VL"
      },
      "execution_count": null,
      "outputs": []
    },
    {
      "cell_type": "code",
      "source": [
        "os.environ[\"GROQ_API_KEY\"] = \"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\""
      ],
      "metadata": {
        "id": "F_U5ZJ1l9yna"
      },
      "execution_count": null,
      "outputs": []
    },
    {
      "cell_type": "code",
      "source": [
        "# Loading the document\n",
        "from langchain.document_loaders import PyMuPDFLoader\n",
        "\n",
        "loader = PyMuPDFLoader(\"/Data-Science.pdf\")\n",
        "documents = loader.load()"
      ],
      "metadata": {
        "id": "-egrDige-RoS"
      },
      "execution_count": null,
      "outputs": []
    },
    {
      "cell_type": "code",
      "source": [
        "print(documents)"
      ],
      "metadata": {
        "colab": {
          "base_uri": "https://localhost:8080/"
        },
        "id": "zVStcgyt-q-D",
        "outputId": "43850bcd-5b91-4183-a278-1de6aaa7f683"
      },
      "execution_count": null,
      "outputs": [
        {
          "output_type": "stream",
          "name": "stdout",
          "text": [
            "[Document(metadata={'source': '/Data-Science.pdf', 'file_path': '/Data-Science.pdf', 'page': 0, 'total_pages': 14, 'format': 'PDF 1.5', 'title': '', 'author': 'sheetal', 'subject': '', 'keywords': '', 'creator': 'Microsoft® Office Word 2007', 'producer': 'Microsoft® Office Word 2007', 'creationDate': 'D:20210405094746Z', 'modDate': \"D:20210405153426+05'30'\", 'trapped': ''}, page_content=' \\n \\nFaculty of Science and Technology \\nSavitribai Phule Pune University \\nMaharashtra, India \\n \\nhttp://unipune.ac.in \\n \\nHonours* in Data Science \\nBoard of Studies \\n (Computer Engineering) \\n(With effect from A.Y. 2020-21) \\n \\n'), Document(metadata={'source': '/Data-Science.pdf', 'file_path': '/Data-Science.pdf', 'page': 1, 'total_pages': 14, 'format': 'PDF 1.5', 'title': '', 'author': 'sheetal', 'subject': '', 'keywords': '', 'creator': 'Microsoft® Office Word 2007', 'producer': 'Microsoft® Office Word 2007', 'creationDate': 'D:20210405094746Z', 'modDate': \"D:20210405153426+05'30'\", 'trapped': ''}, page_content='Savitribai Phule Pune University \\nHonours*  in    Data Science \\nWith effect from 2020-21 \\n \\nYear & Semester \\nCourse Code and  \\nCourse Title \\nTeaching \\nScheme \\nHours / \\nWeek \\nExamination Scheme \\nand Marks \\nCredit Scheme \\nTheory \\nTutorial \\nPractical \\nMid-Semester \\nEnd-Semester \\nTerm work \\nPractical \\nPresentation \\nTotal Marks \\nTheory / \\nTutorial \\nPractical \\nTotal  Credit \\n TE \\n& \\nV \\n310501 \\nData Science and \\nVisualization \\n04 -- \\n-- \\n30 70 \\n-- \\n-- \\n-- \\n100 \\n04 \\n-- \\n04 \\n310502 \\nData Science and \\nVisualization \\nLaboratory \\n-- \\n-- \\n02 \\n-- \\n-- \\n50 \\n-- \\n-- \\n50 \\n-- \\n01 \\n01 \\nTotal \\n04 \\n- \\n02 \\n100 \\n50 \\n- \\n- \\n150 \\n04 \\n01 \\n05 \\n Total     Credits =        05                                                                                \\nTE \\n& \\nVI \\n310503 \\nStatistics and  \\nMachine Learning \\n04 -- \\n-- \\n30 70 \\n-- \\n-- \\n-- \\n100 \\n04 \\n-- \\n04 \\nTotal \\n04 \\n- \\n- \\n100 \\n- \\n- \\n- \\n100 \\n04 \\n- \\n04 \\n Total     Credits =           04 \\nBE \\n& \\n    VII  \\n410501 \\nMachine \\nLearning and \\nData Science \\n04 -- \\n-- \\n30 70 \\n-- \\n-- \\n-- \\n100 \\n04 \\n-- \\n04 \\n410502 \\nMachine Learning \\nand Data Science  \\nLaboratory \\n-- \\n-- \\n02 \\n-- \\n-- \\n50 \\n-- \\n-- \\n50 \\n-- \\n01 \\n01 \\nTotal \\n04 \\n- \\n02 \\n100 \\n50 \\n- \\n- \\n150 \\n04 \\n01 \\n05 \\nTotal     Credits =           05                                                                                \\nBE \\n& \\nVIII  \\n410503 \\nArtificial \\nIntelligence for Big \\nData Analytics \\n04 \\n- \\n-- \\n30 70 \\n-- \\n-- \\n-- \\n100 \\n04 \\n-- \\n04 \\n410504 \\nSeminar \\n-- 02 \\n-- \\n-- \\n-- \\n- \\n-- \\n50 50 \\n02 \\n-- \\n02 \\n \\nTotal \\n04 \\n- \\n02 \\n100 \\n- \\n-- \\n50 150 \\n06 \\n- \\n06 \\nTotal     Credits =           06                                                                                \\nTotal Credit for Semester V+VI+VII+VIII  = 20 \\n* To be offered as Honours for Major Disciplines as– \\n 1. Computer Engineering  \\n2. Electronics and Telecommunication Engineering \\n 3. Electronics Engineering   \\n4. Information Technology \\nFor any other Major Disciplines which is not mentioned above, it may be offered as Minor Degree. \\nReference: https://www.aicte-india.org/sites/default/files/APH%202020_21.pdf    / page 99-100 \\n \\n'), Document(metadata={'source': '/Data-Science.pdf', 'file_path': '/Data-Science.pdf', 'page': 2, 'total_pages': 14, 'format': 'PDF 1.5', 'title': '', 'author': 'sheetal', 'subject': '', 'keywords': '', 'creator': 'Microsoft® Office Word 2007', 'producer': 'Microsoft® Office Word 2007', 'creationDate': 'D:20210405094746Z', 'modDate': \"D:20210405153426+05'30'\", 'trapped': ''}, page_content='Savitribai Phule Pune University  \\nHonours*  in    Data Science \\n \\n \\n \\nThird Year of Engineering (Semester V) \\n310501: Data Science and Visualization \\nTeaching Scheme  \\nCredit Scheme \\nExamination Scheme and Marks \\nLecture: 04 Hours/Week \\n \\n04 \\nMid_Semester(TH):  30 Marks        \\nEnd_Semester(TH):  70 Marks \\nPrerequisites: Computer graphics, Database management system \\nCompanion Course:     --- \\nCourse Objectives: \\n1. To learn data collection and preprocessing techniques for data science \\n2. To Understand and practice analytical methods for solving real life problems. \\n3. To study data exploration techniques \\n4. To learn different types of data and its visualization \\n5. To study different data visualization techniques and tools \\n6. To map element of visualization well to perceive information  \\nCourse Outcomes: \\nOn completion of the course, learner will be able to– \\nCO1: Apply data preprocessing methods on open access data and generate quality data for \\nanalysis \\nCO2: Apply and analyze classification and regression data analytical methods for real life \\n        Problems. \\nCO3: Implement analytical methods using Python/R \\nCO4: Apply different data visualization techniques to understand the data. \\nCO5: Analyze the data using suitable method; visualize using the open source tool. \\nCO6: Model Multi dimensional data and visualize it using appropriate tool \\nCourse Contents \\nUnit I \\nIntroduction to Data Science \\n(06 Hours) \\nDefining data science and big data, Recognizing the different types of data, Gaining insight into the data \\nscience process, Data Science Process: Overview, Different steps, Machine Learning Definition and Relation \\nwith Data Science \\nUnit II \\nStatistics and Probability basics for Data \\nAnalysis \\n(07 Hours) \\nStatistics: Describing a Single Set of Data, Correlation, Simpson’s Paradox, Some Other Correlational \\nCaveats, Correlation and Causation \\nProbability : Dependence and Independence, Conditional Probability, Bayes’s Theorem, Random \\nVariables, Continuous Distributions, The Normal Distribution, The Central Limit Theorem \\nUnit III \\nData Analysis in depth \\n(07 Hours) \\nData Analysis Theory and Methods: Clustering –Overview, K-means- overview of method,  \\ndetermining number of clusters, Association Rules- Overview of method, Apriori algorithm, \\nevaluation of association rules, Regression-Overview of linear regression method, model description. \\nClassification- Overview,  Naïve Bayes classifier \\nUnit IV \\nAdvanced Data Analysis Means \\n(07 Hours) \\nDecision Trees: What Is a Decision Tree? Entropy, The Entropy of a Partition, Creating a Decision Tree, \\nRandom Forests \\nNeural Networks : Perceptrons, Feed-Forward Neural Networks, Backpropagation, Example: \\nDefeating a CAPTCHA \\nMapReduce : Why MapReduce?  Examples like word count and matrix multiplication \\nUnit V \\nBasics of Data Visualization \\n(07 Hours) \\n'), Document(metadata={'source': '/Data-Science.pdf', 'file_path': '/Data-Science.pdf', 'page': 3, 'total_pages': 14, 'format': 'PDF 1.5', 'title': '', 'author': 'sheetal', 'subject': '', 'keywords': '', 'creator': 'Microsoft® Office Word 2007', 'producer': 'Microsoft® Office Word 2007', 'creationDate': 'D:20210405094746Z', 'modDate': \"D:20210405153426+05'30'\", 'trapped': ''}, page_content='Introduction to data visualization, challenges of data visualization, Definition of Dashboard, Their \\ntype, Evolution of dashboard, dashboard design and principles, display media for dashboard. \\nTypes of Data visualization: Basic charts scatter plots, Histogram,advanced visualization Techniques \\nlike streamline and statistical measures, Plots, Graphs, Networks, Hierarchies, Reports. \\nUnit VI \\nData visualization of multidimensional \\ndata \\n(07 Hours) \\nNeed of data modeling, Multidimensional data models, Mapping of high dimensional data into \\nsuitable visualization method- Principal component analysis, clustering study of High dimensional \\ndata. \\nLearning Resources \\nText Books: \\n \\nData Mining: Concepts and Techniques, 3rd Edition. Jiawei Han, Micheline Kamber, Jian Pei. \\n \\nData Science from Scratch : Joel Grus, O’Reilly Media Inc., ISBN: 9781491901427 \\n \\nInformation visualization perception for design, colin ware, MK publication \\n \\nReference Books: \\n \\nBig data black book, Dream tech publication \\n \\nGetting Started with Business Analytics: Insightful Decision-Making , David Roi Hardoon, \\nGalitShmueli, CRC Press \\n \\nBusiness Analytics , James R Evans, Pearson \\n \\nPython Data science Handbook, Jake VanderPlas, Orielly publication \\n \\nData Science for Business: What You Need to Know about Data Mining and Data-Analytic \\nThinking, Vovost Foster, Fawcett Tom \\ne-Books: \\n \\nhandbook for  visualizing : a handbook for data driven design  by Andy krik \\nhttp://book.visualisingdata.com/ \\n \\nhttps://www.programmer-books.com/introducing-data-science-pdf/ \\n \\nAn Introduction to Statistical Learning with Applications in R \\nhttp://faculty.marshall.usc.edu/gareth-james/ISL/ \\nMOOC/  Video Lectures available at: \\n\\uf0b7 https://nptel.ac.in/courses/106/106/106106179/ \\n\\uf0b7 https://nptel.ac.in/courses/106/106/106106212/ \\n\\uf0b7 https://nptel.ac.in/courses/106/105/106105174/ \\n \\n \\n \\n \\n'), Document(metadata={'source': '/Data-Science.pdf', 'file_path': '/Data-Science.pdf', 'page': 4, 'total_pages': 14, 'format': 'PDF 1.5', 'title': '', 'author': 'sheetal', 'subject': '', 'keywords': '', 'creator': 'Microsoft® Office Word 2007', 'producer': 'Microsoft® Office Word 2007', 'creationDate': 'D:20210405094746Z', 'modDate': \"D:20210405153426+05'30'\", 'trapped': ''}, page_content=\"Savitribai Phule Pune University \\nHonours*  in    Data Science \\n \\n \\n \\nThird year of Engineering (Semester V) \\n310502: Data Science and Visualization Laboratory \\nTeaching Scheme  \\nCredit Scheme \\nExamination Scheme and Marks \\nPracticall: 01 Hours/Week \\n \\n01 \\nTerm work:50 Marks        \\n \\nGuidelines for Laboratory Conduction \\n\\uf0b7 Lab Assignments: Following is list of suggested laboratory assignments for reference. Laboratory \\nInstructors may design suitable set of assignments for respective course at their level. Beyond \\ncurriculum assignments and mini-project may be included as a part of laboratory work. The \\ninstructor may set multiple sets of assignments and distribute among batches of students. It is \\nappreciated if the assignments are based on real world problems/applications. The Inclusion of \\nfew optional assignments that are intricate and/or beyond the scope of curriculum will surely be \\nthe value addition for the students and it will satisfy the intellectuals within the group of the \\nlearners and will add to the perspective of the learners. For each laboratory assignment, it is \\nessential for students to draw/write/generate flowchart, algorithm, test cases, mathematical model, \\nTest data set and comparative/complexity analysis (as applicable). Batch size for practical and \\ntutorial may be as per guidelines of authority.  \\n\\uf0b7 Term Work–Term work is continuous assessment that evaluates a student's progress throughout \\nthe semester. Term work assessment criteria specify the standards that must be met and the \\nevidence that will be gathered to demonstrate the achievement of course outcomes. Categorical \\nassessment criteria for the term work should establish unambiguous standards of achievement \\nfor each course outcome. They should describe what the learner is expected to perform in the \\nlaboratories or on the fields to show that the course outcomes have been achieved.  It is \\nrecommended to conduct internal monthly practical examination as part of continuous \\nassessment. \\n\\uf0b7 Assessment: Students’ work will be evaluated typically based on the criteria like attentiveness, \\nproficiency in execution of the task, regularity, punctuality, use of referencing, accuracy of \\nlanguage, use of supporting evidence in drawing conclusions, quality of critical thinking and \\nsimilar performance measuring criteria.  \\n\\uf0b7 Laboratory Journal- Program codes with sample output of all performed assignments are to be \\nsubmitted as softcopy. Use of DVD or similar media containing students programs maintained by \\nLaboratory In-charge is highly encouraged. For reference one or two journals may be maintained \\nwith program prints in the Laboratory. As a conscious effort and little contribution towards Green \\nIT and environment awareness, attaching printed papers as part of write-ups and program listing \\nto journal may be avoided. Submission of journal/ term work in the form of softcopy is desirable \\nand appreciated. \\nSuggested List of Assignments \\nSr. No \\nName of assignment \\n1 \\nAccess an open source dataset “Titanic”.  \\nApply pre-processing techniques on the raw dataset. \\n2 \\nBuild training and testing dataset of assignment 1 to predict the probability of a survival of a \\nperson based on gender, age and passenger-class. \\n3 \\nDownload Abalone dataset. (URL: http://archive.ics.uci.edu/ml/datasets/Abalone)   \\nData set has total 8 Number of Attributes.  \\nSex nominal M, F, and I (infant) \\n            Length             continuous       mm      Longest shell measurement \\n            Diameter         continuous       mm      perpendicular to length \\n\"), Document(metadata={'source': '/Data-Science.pdf', 'file_path': '/Data-Science.pdf', 'page': 5, 'total_pages': 14, 'format': 'PDF 1.5', 'title': '', 'author': 'sheetal', 'subject': '', 'keywords': '', 'creator': 'Microsoft® Office Word 2007', 'producer': 'Microsoft® Office Word 2007', 'creationDate': 'D:20210405094746Z', 'modDate': \"D:20210405153426+05'30'\", 'trapped': ''}, page_content='            Height             continuous       mm      with meat in shell \\n            Whole weight  continuous       grams   whole abalone \\n            Shucked weight          continuous       grams   weight of meat \\n            Viscera weight            continuous       grams   gut weight (after bleeding) \\n            Shell weight    continuous       grams   after being dried \\n            Rings   (age/class of abalone) \\nLoad the data from data file and split it into training and test datasets. Summarize \\nthe properties in the training dataset. The number of rings is the value to predict: \\neither as a continuous value or as a classification problem.  \\nPredict the age of abalone from physical measurements using linear regression or \\npredict ring class as classification problem \\n4 \\nUse Netflix Movies and TV Shows dataset from Kaggle and perform following    \\noperation : \\n1.    Make a visualization showing the total number of movies watched by \\nchildren \\n2.    Make a visualization showing the total number of standup comedies  \\n3.    Make a visualization showing most watched shows. \\n4.    Make a visualization showing highest rated show \\nMake a dashboard (DASHBOARD A) containing all of these above visualizations. \\n \\n \\n \\n \\n'), Document(metadata={'source': '/Data-Science.pdf', 'file_path': '/Data-Science.pdf', 'page': 6, 'total_pages': 14, 'format': 'PDF 1.5', 'title': '', 'author': 'sheetal', 'subject': '', 'keywords': '', 'creator': 'Microsoft® Office Word 2007', 'producer': 'Microsoft® Office Word 2007', 'creationDate': 'D:20210405094746Z', 'modDate': \"D:20210405153426+05'30'\", 'trapped': ''}, page_content=' \\n \\nSavitribai Phule Pune University \\nHonours*  in    Data Science \\n \\n \\n \\nThird Year of Engineering (Semester VI) \\n310503: Statistics and Machine Learning \\nTeaching Scheme  \\nCredit Scheme \\nExamination Scheme and Marks \\nLecture: 04 Hours/Week \\n \\n04 \\nMid_Semester(TH):  30 Marks        \\nEnd_Semester(TH):  70 Marks \\nPrerequisites: Date Science and Visualization \\n \\nCompanion Course :Machine learning \\nCourse Objectives: \\n1.  To understand basis of statistics and mathematics for Machine Learning \\n2.To understand basis of descriptive statistics measures and hypothesis \\n3.To learn various statistical inference methods \\n4. To introduce basic concepts and techniques of Machine Learning \\n5. To learn different linear regression methods used in machine learning \\n6. To learn Classification models used in machine learning \\nCourse Outcomes: \\nOn completion of the course, learner will be able to– \\nCO1: Apply appropriate statistical measure for machine learning applications \\nC02: Usage of appropriate descriptive statistics measures for statistical analysis \\nC03: Usage of appropriate statistics inference for data analysis \\nCO4: Identify types of suitable machine learning techniques \\nCO5:  Apply regression techniques to machine learning problems \\nCO6: Apply decision tree and Naïve Bayes model  to solve real time applications \\nCourse Contents \\nUnit I \\n   Statistical Inference I \\n(07 Hours) \\nTypes of Statistical Inference, Descriptive Statistics, Inferential Statistics, Importance of Statistical \\nInference in Machine Learning. Descriptive Statistics, Measures of Central Tendency: Mean, Median, \\nMode, Mid-range, Measures of Dispersion: Range, Variance, Mean Deviation, Standard Deviation. \\nOne sample hypothesis testing, Hypothesis, Testing of Hypothesis, Chi-Square Tests, t-test, ANOVA \\nand ANOCOVA. Pearson Correlation, Bi-variate regression, Multi-variate regression, Chi-square \\nstatistics.  \\n#Exemplar/Case \\nStudies \\nFor a payroll dataset create Measure of central tenancy and its measure of \\ndispersion for statistical analysis of given data. \\nUnit II \\nStatistical Inference II \\n(07 Hours) \\nMeasure of Relationship: Covariance, Karl Pearson’s Coefficient of Correlation, Measures of Position: \\nPercentile,  Z-score, Quartiles, Bayes’ Theorem, Bayes Classifier, Bayesian network, Discriminative \\nlearning with maximum likelihood, Probabilistic models with hidden variables, Linear models, \\nregression analysis, least squares. \\n#Exemplar/Case \\nStudies \\nCreate a probabilistic model for credit card fraud detection \\nUnit III \\nLinear Algebra and Calculus \\n(07 Hours) \\nLinear Algebra: Matrix and vector algebra, systems of linear equations using matrices, linear \\nindependence, Matrix factorization concept/LU decomposition, Eigen values and eigenvectors. \\nUnderstanding of calculus: concept of function and derivative, Multivariate calculus: concept, Partial \\nDerivatives, chain rule, the Jacobian and the Hessian \\n'), Document(metadata={'source': '/Data-Science.pdf', 'file_path': '/Data-Science.pdf', 'page': 7, 'total_pages': 14, 'format': 'PDF 1.5', 'title': '', 'author': 'sheetal', 'subject': '', 'keywords': '', 'creator': 'Microsoft® Office Word 2007', 'producer': 'Microsoft® Office Word 2007', 'creationDate': 'D:20210405094746Z', 'modDate': \"D:20210405153426+05'30'\", 'trapped': ''}, page_content='#Exemplar/Case \\nStudies \\nExplore statistical inference for Financial Statement Fraud Detection \\nUnit IV \\nIntroduction to machine learning \\n(07 Hours) \\nWhat is Machine Learning? Well posed learning problems, Designing a Learning system,Machine \\nLearning types-Supervised learning, Unsupervised learning, and Reinforcement Learning, Applications \\nof machine learning, Perspective and Issues in Machine Learning \\n \\n#Exemplar/Case \\nStudies \\nExplore use of machine learning in NETFLIX as case study \\nUnit V \\nRegression Model \\n(07 Hours) \\nIntroduction, types of regression. Simple regression- Types, Making predictions, Cost function, \\nGradient descent, Training, Model evaluation. \\nMultivariable regression : Growing complexity, Normalization, Making predictions, Initialize weights, \\nCost function, Gradient descent, Simplifying with matrices, Bias term, Model evaluation \\n \\n#Exemplar/Case \\nStudies \\nMachine Learning for Health Data Analytics: A Few Case Studies of \\nApplication of Regression Machine Learning for Health Data Analytics by  \\nIyyanki Murali krishna ,Prisilla Jayanthi and Valli Manickam \\nUnit VI \\nClassification Models \\n(08 Hours) \\nDecision tree representation, Constructing Decision Trees, Classification and Regression Trees, \\nhypothesis space search in decision tree learning \\nBayes\\' Theorem, Working of Naïve Bayes\\' Classifier, Types of Naïve Bayes Model, Advantages, \\nDisadvantages and Application of Naïve Bayes Model \\n#Exemplar/Case \\nStudies \\nExplore decision tree model for customer churns \\nLearning Resources \\nText Books: \\n1. Tom M. Mitchell, Machine Learning, India Edition 2013, McGraw Hill Education. \\n2. S.P. Gupta, Statistical Methods, Sultan Chand and Sons, New Delhi, 2009,  \\n3. Kothari C.R., “Research Methodology. New Age International, 2004, 2nd Ed; ISBN:13: 978-\\n81-224-1522-3. \\nReference Books: \\n1. Peter Harrington, Machine Learning In Action, DreamTech Press 2.ISBN: 9781617290183 \\n2. Alpaydin, Ethem. Machine learning: the new AI. MIT press, 2016, ISBN: 9780262529518 \\n3. Stephen Marsland, Machine Learning An Algorithmic Perspective, CRC Press, ISBN: : \\n978-1-4665-8333-7  \\ne-Books/ Articles: \\n1. Johan Perols (2011) Financial Statement Fraud Detection: An Analysis of Statistical and \\nMachine Learning Algorithms. AUDITING: A Journal of Practice & Theory: May 2011, \\nVol. 30, No. 2, pp. 19-50. \\n2. Panigrahi, Suvasini, et al. \"Credit card fraud detection: A fusion approach using \\nDempster–Shafer theory and Bayesian learning.\" Information Fusion 10.4 (2009): 354-\\n363. \\nMOOC/  Video Lectures available at: \\n\\uf0b7 https://nptel.ac.in/courses/106/106/106106139/ \\n\\uf0b7 https://nptel.ac.in/courses/106/105/106105152/ \\n \\n \\n \\n \\n \\n'), Document(metadata={'source': '/Data-Science.pdf', 'file_path': '/Data-Science.pdf', 'page': 8, 'total_pages': 14, 'format': 'PDF 1.5', 'title': '', 'author': 'sheetal', 'subject': '', 'keywords': '', 'creator': 'Microsoft® Office Word 2007', 'producer': 'Microsoft® Office Word 2007', 'creationDate': 'D:20210405094746Z', 'modDate': \"D:20210405153426+05'30'\", 'trapped': ''}, page_content='Savitribai Phule Pune University \\nHonours*  in    Data Science \\nFourth  year of Engineering (Semester VII) \\n410501: Machine learning and Data Science \\nTeaching Scheme  \\nCredit Scheme \\nExamination Scheme and Marks \\nLecture: 04 Hours/Week \\n \\n04 \\nMid_Semester(TH):  30 Marks        \\nEnd_Semester(TH):  70 Marks \\nPrerequisites: Data Science and Visualization, Statistic and Machine Learning \\nCompanion Course:     Machine learning \\nCourse Objectives: \\n1. To understand and learn regression models, interpret estimates and diagnostic statistics \\n2. To understand and learn different classification models and its algorithms \\n3. To understand and learn clustering methods \\n4. To generate an ability to build neural networks for solving real life problems. \\n5. To acquire knowledge of Convolution Artificial Neural Networks , Recurrent network \\n6. To apply analytics concept on text data \\nCourse Outcomes: \\nOn completion of the course, learner will be able to– \\n1. Apply, build and fit regression models for real time problems. \\n2. Apply and build classification models using SVM and random forest classifiers. \\n3. Apply and build clustering models using clustering methods and its corresponding algorithms. \\n4. Design and development of certain scientific and commercial application using computational \\nneural network models, \\n5. Apply text  classification and topic modelling methods to solve given problem \\nCourse Contents \\nUnit I \\nRegression Models \\n(07 Hours) \\nOverview of statistical linear models, residuals, regression inference, Generalized linear models, \\nlogistic regression, Interpretation of odds and odds ratios, Maximum likelihood estimation in logistic \\nregression, Poisson regression, Examples, Interpreting logistic regression, Visualizing fitting logistic \\nregression curves. \\n#Exemplar/Case \\nStudies \\nRemote sensing and GIS-based landslide hazard analysis and cross-validation \\nusing multivariate logistic regression model  \\n \\nUnit II \\n \\nClassification Methods \\n \\n(07 Hours) \\nSupport Vector Machine classification algorithm, hyper plane, optimal separating hyperplanes , kernel \\nfunctions, kernel selection, applications, Introduction to ensemble and its techniques, Bagging and \\nBootstrap ensemble methods, Introduction to random forest, growing of random forest, random feature \\nselection \\n#Exemplar/Case \\nStudies \\nFace recognition using SVM Or Product review case study in area of \\nsentimental analysis using SVM and random forest classifiers \\nUnit III \\nClustering Methods \\n(07 Hours) \\nOverview of clustering and unsupervised learning, Introduction to clustering methods :Partitioning \\nmethods  K-Means algorithm, assessing quality and choose number of clusters, KNN (1 NN, K NN) \\ntechniques, K-Medians, Density based method: Density-Based Spatial Clustering. Hierarchical \\nclustering methods: Agglomerative Hierarchical clustering technique, Roles of dendrograms and \\nChoosing number clusters in Hierarchical clustering, Divisive clustering techniques. \\n#Exemplar/Case \\nStudies \\nCase study on DNA sequencing and hierarchical clustering to find the \\nphylogenetic tree of animal evolution \\n'), Document(metadata={'source': '/Data-Science.pdf', 'file_path': '/Data-Science.pdf', 'page': 9, 'total_pages': 14, 'format': 'PDF 1.5', 'title': '', 'author': 'sheetal', 'subject': '', 'keywords': '', 'creator': 'Microsoft® Office Word 2007', 'producer': 'Microsoft® Office Word 2007', 'creationDate': 'D:20210405094746Z', 'modDate': \"D:20210405153426+05'30'\", 'trapped': ''}, page_content='Unit IV \\nArtificial Neural Network \\n(07 Hours) \\nBiological neuron, models of a neuron, Introduction to Neural networks, network architectures (feed-\\nforward, feedback etc.), Activation Functions   \\nPerceptron, Training a Perceptron, Multilayer Perceptrons, Back propagation Algorithm, Generalized \\nDelta Learning Rule, Limitations of MLP  \\n \\n#Exemplar/Case \\nStudies \\nCharacter reorganization using neural network \\nUnit V \\nConvolutional  Neural Network \\n(07 Hours) \\nConvolutional  Neural Network, Recursive Neural Network, Recurrent Neural Network, Long-short \\nTerm Memory, Gradient descent optimization  \\n#Exemplar/Case \\nStudies \\nEdge recognition using CNN \\nUnit VI \\nApplications Perspective \\n(07 Hours) \\nText Preprocessing- tokenization, document representation, feature selection, feature extraction; \\n Topic modeling algorithms-Latent Dirichlet Allocation;  \\nText Similarity measure \\n#Exemplar/Case \\nStudies \\nSMS classification \\nLearning Resources \\nText Books: \\n \\n1. Machine Learning by Tom M. Mitchell \\n2. Douglas Montgomery, Elizabeth A. Peck, and G. Geoffrey Vining, “Introduction to Linear \\nRegression Analysis”, 5th edition, Wiley publication. \\n3. Data Clustering Algorithms and Applications By Charu C. Aggarwal, Chandan K. Reddy \\n4. EthemAlpaydin: Introduction to Machine Learning, PHI 2nd Edition-2013 \\nReference Books: \\n1. Hands-On Machine Learning with Scikit-Learn, Keras, and TensorFlow: Concepts, Tools, and \\nTechniques to Build Intelligent Systems 2nd Edition \\n2. B Yegnanarayana : Artificial Neural Networks for pattern recognition ,PHI Learning Pvt. \\nLtd., 14-Jan-2009 \\n3. Jack Zurada: Introduction to Artificial Neural Systems, PWS Publishing Co. Boston, 2002. \\n4. Feldman, Ronen, and James Sanger, eds. The text mining handbook: advanced approaches in \\nanalyzing unstructured data. Cambridge University Press, 2007.  \\n \\ne-Books: \\n1. https://anuradhasrinivas.files.wordpress.com/2013/08/29721562-zurada-introduction-to-\\nartificial-neural-systems-wpc-1992.pdf \\n2. https://www.academia.edu/35741465/Introduction_to_Machine_Learning_2e_Ethem\\n_Alpaydin \\n3. Support Vector Machines for Classification and Regression by Steve R. Gunn \\n(https://meandmyheart.files.wordpress.com/2009/02/svm_gunn1.pdf) \\nMOOC/  Video Lectures available at: \\n● https://nptel.ac.in/courses/117/105/117105084/ \\n● https://nptel.ac.in/courses/106/106/106106184/ \\n \\n \\n \\n \\n \\n \\n \\n \\n'), Document(metadata={'source': '/Data-Science.pdf', 'file_path': '/Data-Science.pdf', 'page': 10, 'total_pages': 14, 'format': 'PDF 1.5', 'title': '', 'author': 'sheetal', 'subject': '', 'keywords': '', 'creator': 'Microsoft® Office Word 2007', 'producer': 'Microsoft® Office Word 2007', 'creationDate': 'D:20210405094746Z', 'modDate': \"D:20210405153426+05'30'\", 'trapped': ''}, page_content=\"Savitribai Phule Pune University \\nHonours*  in    Data Science \\nFourth  year of Engineering (Semester VII) \\n410502: Machine learning and Data Science Laboratory \\nTeaching Scheme  \\nCredit Scheme \\nExamination Scheme and Marks \\nPractical: 01 Hours/Week \\n \\n01 \\nTerm work: 50 Marks        \\n \\nGuidelines for Laboratory Conduction \\n\\uf0b7 Lab Assignments: Following is list of suggested laboratory assignments for reference. Laboratory \\nInstructors may design suitable set of assignments for respective course at their level. Beyond \\ncurriculum assignments and mini-project may be included as a part of laboratory work. The \\ninstructor may set multiple sets of assignments and distribute among batches of students. It is \\nappreciated if the assignments are based on real world problems/applications. The Inclusion of \\nfew optional assignments that are intricate and/or beyond the scope of curriculum will surely be \\nthe value addition for the students and it will satisfy the intellectuals within the group of the \\nlearners and will add to the perspective of the learners. For each laboratory assignment, it is \\nessential for students to draw/write/generate flowchart, algorithm, test cases, mathematical model, \\nTest data set and comparative/complexity analysis (as applicable). Batch size for practical and \\ntutorial may be as per guidelines of authority.  \\n\\uf0b7 Term Work–Term work is continuous assessment that evaluates a student's progress throughout \\nthe semester. Term work assessment criteria specify the standards that must be met and the \\nevidence that will be gathered to demonstrate the achievement of course outcomes. Categorical \\nassessment criteria for the term work should establish unambiguous standards of achievement \\nfor each course outcome. They should describe what the learner is expected to perform in the \\nlaboratories or on the fields to show that the course outcomes have been achieved.  It is \\nrecommended to conduct internal monthly practical examination as part of continuous \\nassessment. \\n\\uf0b7 Assessment: Students’ work will be evaluated typically based on the criteria like attentiveness, \\nproficiency in execution of the task, regularity, punctuality, use of referencing, accuracy of \\nlanguage, use of supporting evidence in drawing conclusions, quality of critical thinking and \\nsimilar performance measuring criteria.  \\n\\uf0b7 Laboratory Journal- Program codes with sample output of all performed assignments are to be \\nsubmitted as softcopy. Use of DVD or similar media containing students programs maintained by \\nLaboratory In-charge is highly encouraged. For reference one or two journals may be maintained \\nwith program prints in the Laboratory. As a conscious effort and little contribution towards Green \\nIT and environment awareness, attaching printed papers as part of write-ups and program listing \\nto journal may be avoided. Submission of journal/ term work in the form of softcopy is desirable \\nand appreciated. \\nSuggested List of Assignments \\nSr. No \\nName of assignment \\n1 \\nCreating & Visualizing Neural Network for the given data. (Use python) \\n Note: download dataset using Kaggal. Keras, ANN visualizer, graph viz libraries are \\nequired. \\n2 \\nRecognize optical character using ANN \\n3 \\nImplement basic logic gates using Hebbnet neural networks \\n5 \\nExploratory analysis on Twitter text data \\nPerform text pre-processing, Apply Zips and heaps law, Identify topics \\n4 \\nText classification for Sentimental analysis using KNN \\nNote: Use twitter data \\n6 \\nWrite a program to recognize a document is positive or negative based on polarity \\nwords using suitable classification method. \\n\"), Document(metadata={'source': '/Data-Science.pdf', 'file_path': '/Data-Science.pdf', 'page': 11, 'total_pages': 14, 'format': 'PDF 1.5', 'title': '', 'author': 'sheetal', 'subject': '', 'keywords': '', 'creator': 'Microsoft® Office Word 2007', 'producer': 'Microsoft® Office Word 2007', 'creationDate': 'D:20210405094746Z', 'modDate': \"D:20210405153426+05'30'\", 'trapped': ''}, page_content='Savitribai Phule Pune University \\nHonours*  in    Data Science \\nFourth  year of Engineering (Semester VIII) \\n410503: Artificial Intelligence for Big Data Mining \\nTeaching Scheme  \\nCredit Scheme \\nExamination Scheme and Marks \\nLecture: 04 Hours/Week \\n \\n04 \\nMid_Semester(TH):  30 Marks      \\nEnd_Semester(TH):  70 Marks \\nPrerequisites: Data science fundamentals and statistical learning \\n \\nCompanion Course:     Artificial Intelligence, Data Analytics \\nCourse Objectives: \\n \\n1. To learn artificial intelligence techniques  \\n2. To Understand big data learning methods \\n3. To study deep learning techniques \\n4. To learn Hadoop ecosystem and its components \\n5. To learn the implementation of Data analysis using Hadoop \\n6. To study the concept and methods of natural language processing, fuzzy system, and \\nreinforcement  learning \\nCourse Outcomes: \\nOn completion of the course, learner will be able to– \\n \\n      CO1: Apply basic artificial learning method for big data analysis \\n      CO2: Apply and analyze learning methods for big data \\n      CO3: Implement data analytics using Hadoop \\n      CO4: Apply neural networks on big data and analyze the performance. \\n      CO5: Implement and Analyze scalable machine learning using Hadoop \\n      CO6: Apply NLP, Reinforcement learning and fuzzy logic on Big data \\nCourse Contents \\nUnit I \\nIntroduction to Artificial Intelligence \\n(07 Hours) \\nNeed of AI, Applications of AI, Logic programming-solving problems using logic programming, Heuristic \\nsearch techniques- constraint satisfaction problems, local search techniques, greedy search  \\n \\n#Exemplar/Case Studies \\nInstall easy AI library and explore various functionalities \\nInstall Python packages for logic programming \\n*Mapping of Course \\nOutcomes for   Unit I \\nCO1 \\nUnit II \\nBig Data Learning \\n(07 Hours) \\nIntroduction to Big Data, Characteristics of big data, types of data, Supervised and unsupervised \\nmachine learning, Overview of regression analysis, clustering, data dimensionality, clustering methods, \\nIntroduction to Spark programming model and MLib library, Content based recommendation systems. \\n#Exemplar/Case Studies \\nMarket based shopping pattern \\n*Mapping of Course \\nOutcomes for   Unit II \\nCO2 \\nUnit III \\nNeural networks for big data \\n(07 Hours) \\nFundamental of Neural networks and artificial neural networks, perceptron and linear models, \\nnonlinearities model, feed forward neural networks, Gradient descent and backpropagation, \\nOverfitting, Recurrent neural networks \\n \\n'), Document(metadata={'source': '/Data-Science.pdf', 'file_path': '/Data-Science.pdf', 'page': 12, 'total_pages': 14, 'format': 'PDF 1.5', 'title': '', 'author': 'sheetal', 'subject': '', 'keywords': '', 'creator': 'Microsoft® Office Word 2007', 'producer': 'Microsoft® Office Word 2007', 'creationDate': 'D:20210405094746Z', 'modDate': \"D:20210405153426+05'30'\", 'trapped': ''}, page_content=\"#Exemplar/Case Studies \\nExplore PyTorch library for Neural networks \\n*Mapping of Course \\nOutcomes for Unit III \\nCO4 \\nUnit IV \\nBig data analytics using Hadoop-I \\n(07 Hours) \\nHadoop Ecosystem, HDFS, Map Reduce, Python And Hadoop streaming, Spark- basics, Pyspark \\n#Exemplar/Case Studies \\nInstall Hadoop  \\n*Mapping of Course \\nOutcomes for Unit IV \\nCO3 \\nUnit V \\nBig data analytics using Hadoop-II \\n(07 Hours) \\nData warehousing and mining, Data analysis using Hive, Data ingestion, Scalable machine learning \\nusing Spark. \\n#Exemplar/Case Studies \\nInstall Hadoop ecosystem products – Sqoop, Hive, HBase \\n*Mapping of Course \\nOutcomes for Unit V \\nCO5 \\nUnit VI \\nApplications \\n(07 Hours) \\nNLP: Natural language processing steps: Text pre-processing, feature extraction, applying NLP \\ntechniques.  Applications: sentiment analysis \\nComputer Vision: General steps image pre-processing, feature extraction, applying machine learning \\nalgorithms.  Applications: object detection \\n \\n#Exemplar/Case Studies \\nRobotics, text summarization \\n*Mapping of Course \\nOutcomes for Unit VI \\nCO6 \\nLearning Resources \\nText Books: \\n1. Anand Deshpande, Manish Kumar ,Artificial intelligence for Big data, Packt publication,  ISBN \\n9781788472173 \\n2. Benjamin Bengfort, Jenny Kim,Data Analytics with Hadoop, O'Reilly Media, Inc., ISBN: \\n9781491913703 \\n \\nReference Books: \\n1. Artificial Intelligence with Python, Prateek Joshi, Packt Publication, ISBN:9781786464392 \\n2. Big data black book, Dream tech publication, ISBN 9789351197577 \\n3. Bill Chambers, Matei Zaharia,Spark: The Definitive Guide, O'Reilly Media, Inc.ISBN: \\n9781491912218 \\n4. Tom White ,Hadoop: The Definitive Guide, 4th Edition, Publisher: O'Reilly Media, Inc., ISBN: \\n9781491901687 \\n \\ne-Books: \\n1. http://cdn.oreillystatic.com/oreilly/radarreport/0636920028307/Big_Data_Now_2012_Edition.\\npdf \\n \\nMOOC/  Video Lectures available at: \\n\\uf0b7 \\nhttps://nptel.ac.in/courses/106/106/106106184/# \\n\\uf0b7 \\nhttps://nptel.ac.in/courses/127/105/127105006/ \\n\\uf0b7 \\nhttps://swayam.gov.in/nd1_noc19_cs54/preview \\n\\uf0b7 \\nhttps://nptel.ac.in/courses/106/102/106102220/ \\n \\n \\n \\n \\n \\n\"), Document(metadata={'source': '/Data-Science.pdf', 'file_path': '/Data-Science.pdf', 'page': 13, 'total_pages': 14, 'format': 'PDF 1.5', 'title': '', 'author': 'sheetal', 'subject': '', 'keywords': '', 'creator': 'Microsoft® Office Word 2007', 'producer': 'Microsoft® Office Word 2007', 'creationDate': 'D:20210405094746Z', 'modDate': \"D:20210405153426+05'30'\", 'trapped': ''}, page_content=' \\n \\nSavitribai Phule Pune University \\nHonours*  in    Data Science \\nFourth  Year of Engineering (Semester VII) \\n410504: Seminar \\nTeaching Scheme  \\nCredit Scheme \\nExamination Scheme and Marks \\nPractical: 02 \\nHours/Week \\n02 \\nPresentation: 50 Marks        \\nCourse Objectives:   \\n\\uf0b7 \\nTo train the student to independently search, identify and study important topics in \\ncomputer science. \\n\\uf0b7 \\nTo develop skills among students to study and keep themselves up to date of the \\ntechnological developments taking place in computer science \\n\\uf0b7 \\nTo expose students to the world of research, technology and innovation. \\nCourse Outcomes:  \\nOn completion of the course, student will  be able to  \\n\\uf0b7 \\nTo train the student to independently search, identify and study important topics in \\ncomputer science. \\n\\uf0b7 \\nTo develop skills among students to study and keep themselves up to date of the \\ntechnological developments taking place in computer science. \\n\\uf0b7 To expose students to the world of research, technology and innovation \\nGuidelines for Seminar: \\n\\uf0b7 \\nThe department will assign an internal guide under which students shall carry out  Hons. \\nseminar work \\n\\uf0b7 \\nIn order to select a topic for Hons. Seminar, the student shall refer to various resources like \\nbooks, magazines, scientific papers, journals, the Internet and experts from industries and \\nresearch institutes \\n\\uf0b7 \\nThe topic selected for Hons. Seminar by the students will be scrutinized and if found \\nsuitable, shall be approved by the internal guide \\n\\uf0b7 \\nStudent should also explore the tools and technologies available for implementation of \\nselected topic. Student should implement/ simulate the seminar work partially/ fully for \\nenhancing the practical skill set on topic.  \\n\\uf0b7 \\nStudent shall submit the progress of his/her Hons. Seminar work to the internal guide. \\n\\uf0b7 \\nThe student shall prepare a REPORT on the work done on Hons. Seminar and submit it at \\nthe time of presentation. \\n \\nEvaluation of IT Seminar Work \\n\\uf0b7 During the seminar work, its progress will be monitored, by the internal guide. \\n\\uf0b7 At the end of seminar work, copy of Hons. Seminar Report should be prepared and \\nsubmitted to department. \\n\\uf0b7 End Examination shall be based on the Report, technical content and Presentation. \\n\\uf0b7 Guidelines for Assessment: Panel of staff members along with a guide would be assessing \\nthe seminar work based on these parameters-Topic, Contents and Presentation, \\nimplementation, regularity, Punctuality and Timely Completion, Question and Answers, \\nReport, Paper presentation/Publication, Attendance and Active Participation. \\nReferences:  \\n1. \\nRebecca Stott, Cordelia Bryan, Tory Young, “Speaking Your Mind: Oral Presentation and Seminar Skills \\n(Speak-Write Series)”, Longman, ISBN-13: 978-0582382435  \\n2. \\nJohnson-Sheehan, Richard, “Technical Communication”, Longman. ISBN 0-321-11764-6  \\n3. \\n Vikas Shirodka, “Fundamental skills for building Professionals”, SPD, ISBN 978-93-5213- 146-5 \\n \\n \\n')]\n"
          ]
        }
      ]
    },
    {
      "cell_type": "code",
      "source": [
        "# splitting into text chunks\n",
        "text_splitter = CharacterTextSplitter(\n",
        "    chunk_size = 2000,\n",
        "    chunk_overlap = 400 # One chunk is kind of connected to another\n",
        ")"
      ],
      "metadata": {
        "id": "pS_u3cbkHXVh"
      },
      "execution_count": null,
      "outputs": []
    },
    {
      "cell_type": "code",
      "source": [
        "texts = text_splitter.split_documents(documents)"
      ],
      "metadata": {
        "id": "zyB0gluWHylm"
      },
      "execution_count": null,
      "outputs": []
    },
    {
      "cell_type": "code",
      "source": [
        "type(texts)"
      ],
      "metadata": {
        "colab": {
          "base_uri": "https://localhost:8080/"
        },
        "id": "oPrKGd-zH1LV",
        "outputId": "21f6ec78-0331-4d00-d57e-71caae0a8525"
      },
      "execution_count": null,
      "outputs": [
        {
          "output_type": "execute_result",
          "data": {
            "text/plain": [
              "list"
            ]
          },
          "metadata": {},
          "execution_count": 93
        }
      ]
    },
    {
      "cell_type": "code",
      "source": [
        "len(texts)"
      ],
      "metadata": {
        "colab": {
          "base_uri": "https://localhost:8080/"
        },
        "id": "ZmnZVd62H2Nu",
        "outputId": "7abfca3f-3f09-4871-8dc7-b74360c21aa9"
      },
      "execution_count": null,
      "outputs": [
        {
          "output_type": "execute_result",
          "data": {
            "text/plain": [
              "14"
            ]
          },
          "metadata": {},
          "execution_count": 94
        }
      ]
    },
    {
      "cell_type": "code",
      "source": [
        "embeddings = HuggingFaceEmbeddings()"
      ],
      "metadata": {
        "id": "QJ5lmtSZH3l7"
      },
      "execution_count": null,
      "outputs": []
    },
    {
      "cell_type": "code",
      "source": [
        "persist_directory = \"doc_db\""
      ],
      "metadata": {
        "id": "sxG3DLjTH5p2"
      },
      "execution_count": null,
      "outputs": []
    },
    {
      "cell_type": "code",
      "source": [
        "vectordb = Chroma.from_documents(\n",
        "    documents = texts,\n",
        "    embedding = embeddings,\n",
        "    persist_directory = persist_directory\n",
        ")"
      ],
      "metadata": {
        "id": "IzH-M6R_JMqo"
      },
      "execution_count": null,
      "outputs": []
    },
    {
      "cell_type": "code",
      "source": [
        "# retriever\n",
        "retriever = vectordb.as_retriever()"
      ],
      "metadata": {
        "id": "fqrVJGI6JZp8"
      },
      "execution_count": null,
      "outputs": []
    },
    {
      "cell_type": "code",
      "source": [
        "# LLM from groq\n",
        "llm = ChatGroq(\n",
        "    model = \"llama3-70b-8192\",\n",
        "    temperature = 0\n",
        ")"
      ],
      "metadata": {
        "id": "pb6RGzrTJ4nJ"
      },
      "execution_count": null,
      "outputs": []
    },
    {
      "cell_type": "code",
      "source": [
        "# Create a qa chain\n",
        "qa_chain = RetrievalQA.from_chain_type(\n",
        "    llm = llm,\n",
        "    chain_type = \"stuff\",\n",
        "    retriever = retriever,\n",
        "    return_source_documents = True\n",
        ")"
      ],
      "metadata": {
        "id": "Qm75VeDGKFhe"
      },
      "execution_count": null,
      "outputs": []
    },
    {
      "cell_type": "code",
      "source": [
        "# Invoke QA chain and get a response for a user query\n",
        "query = \"What is the data science subjects ?\"\n",
        "response = qa_chain.invoke({\"query\": query})"
      ],
      "metadata": {
        "id": "Csvvwt2gLl3W"
      },
      "execution_count": null,
      "outputs": []
    },
    {
      "cell_type": "code",
      "source": [
        "print(response[\"result\"])"
      ],
      "metadata": {
        "colab": {
          "base_uri": "https://localhost:8080/"
        },
        "id": "a3pY1GpwMD2Q",
        "outputId": "5d59d7b7-938a-470f-c1f2-6b54a5a9eaed"
      },
      "execution_count": null,
      "outputs": [
        {
          "output_type": "stream",
          "name": "stdout",
          "text": [
            "Based on the provided context, the data science subjects in the Savitribai Phule Pune University's Honours in Data Science program are:\n",
            "\n",
            "1. Data Science and Visualization (310501)\n",
            "2. Data Science and Visualization Laboratory (310502)\n",
            "3. Statistics and Machine Learning (310503)\n",
            "4. Machine Learning and Data Science (410501)\n",
            "5. Machine Learning and Data Science Laboratory (410502)\n",
            "6. Artificial Intelligence for Big Data Analytics (410503)\n",
            "7. Seminar (410504)\n",
            "\n",
            "These subjects are part of the curriculum for the Honours in Data Science program, spanning across Semesters V to VIII.\n"
          ]
        }
      ]
    },
    {
      "cell_type": "code",
      "source": [
        "print(response[\"source_documents\"][0].metadata[\"source\"])"
      ],
      "metadata": {
        "colab": {
          "base_uri": "https://localhost:8080/"
        },
        "id": "EeApLzWsMndJ",
        "outputId": "b9f23a4b-bf69-4132-8fb2-a954c00c8fae"
      },
      "execution_count": null,
      "outputs": [
        {
          "output_type": "stream",
          "name": "stdout",
          "text": [
            "/Data-Science.pdf\n"
          ]
        }
      ]
    },
    {
      "cell_type": "code",
      "source": [],
      "metadata": {
        "id": "Gr7w7D56NvmJ"
      },
      "execution_count": null,
      "outputs": []
    }
  ]
}